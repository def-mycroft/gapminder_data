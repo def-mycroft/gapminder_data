{
 "cells": [
  {
   "cell_type": "markdown",
   "metadata": {},
   "source": [
    "\n",
    "Data is from [this](https://docs.google.com/spreadsheets/d/14G6CjF6NblTGf6kkQclpXp3XZ3D4Nkw1I92DB4fOjXo/pub?gid=0#) URL on [gapminder](https://www.gapminder.org/data/).\n",
    "\n",
    "The data is taken from [gapminder](https://www.gapminder.org/data/). The data represents daily available food supply, defined [here](https://docs.google.com/spreadsheets/d/14G6CjF6NblTGf6kkQclpXp3XZ3D4Nkw1I92DB4fOjXo/pub?gid=0#):\n",
    "\n",
    "> The total supply of food available in a country, divided by the population and 365 (the number of days in the year).\n",
    "\n",
    "This represents the amount of available food per person in a country. There are 151 countries and 47 years, ranging from 1961 to 2007. \n",
    "\n",
    "An analysis of this data is visible in [this](https://github.com/def-mycroft/gapminder_data/blob/master/analysis_food_kilocalories_country_inequality.ipynb) notebook.\n"
   ]
  },
  {
   "cell_type": "markdown",
   "metadata": {},
   "source": [
    "# Cleaning Data"
   ]
  },
  {
   "cell_type": "markdown",
   "metadata": {},
   "source": [
    "Operations done in a database:\n",
    "\n",
    "* Read into a dataframe\n",
    "* Removed of countries which don't have observations dating back to 1961\n",
    "* A series for the average and one standard deviation the values are created \n",
    "* The dataframe and series are written to a file"
   ]
  },
  {
   "cell_type": "code",
   "execution_count": 185,
   "metadata": {
    "collapsed": true
   },
   "outputs": [],
   "source": [
    "import pandas as pd\n",
    "import numpy as np\n",
    "import pickle_funcs as pk\n",
    "import matplotlib.pyplot as plt\n",
    "%matplotlib inline"
   ]
  },
  {
   "cell_type": "code",
   "execution_count": 186,
   "metadata": {
    "collapsed": false
   },
   "outputs": [],
   "source": [
    "data = pd.read_csv('food_kilocalories.csv')"
   ]
  },
  {
   "cell_type": "code",
   "execution_count": 187,
   "metadata": {
    "collapsed": false
   },
   "outputs": [],
   "source": [
    "# Reset the first column name to 'Country'\n",
    "columns = list(data.columns)\n",
    "columns[0] = 'Country'\n",
    "data.columns = columns"
   ]
  },
  {
   "cell_type": "code",
   "execution_count": 188,
   "metadata": {
    "collapsed": false
   },
   "outputs": [],
   "source": [
    "# Drop any row which contains a null. Could add more countries by dropping columns to a certain point.\n",
    "data.dropna(axis=0, inplace=True)"
   ]
  },
  {
   "cell_type": "code",
   "execution_count": 189,
   "metadata": {
    "collapsed": true
   },
   "outputs": [],
   "source": [
    "# Change the index to the 'Country' column\n",
    "data.index = data['Country']\n",
    "data.drop('Country', axis=1, inplace=True) # And drop the 'Country' column."
   ]
  },
  {
   "cell_type": "markdown",
   "metadata": {},
   "source": [
    "# Creating Average and Stdev Columns"
   ]
  },
  {
   "cell_type": "code",
   "execution_count": 190,
   "metadata": {
    "collapsed": false
   },
   "outputs": [],
   "source": [
    "# Create two lists, one for years and one for values.\n",
    "mean_values = []\n",
    "mean_years = []\n",
    "for col in range(len(data.columns)):\n",
    "    mean = (data.iloc[:, col].mean())\n",
    "    year = (data.columns[col])\n",
    "    mean_values.append(mean)\n",
    "    mean_years.append(year)"
   ]
  },
  {
   "cell_type": "code",
   "execution_count": 191,
   "metadata": {
    "collapsed": false
   },
   "outputs": [],
   "source": [
    "# Create two lists, one for years and one for values.\n",
    "stdev_values = []\n",
    "stdev_years = []\n",
    "for col in range(len(data.columns)):\n",
    "    deviation = (data.iloc[:, col].std())\n",
    "    year = (data.columns[col])\n",
    "    stdev_values.append(deviation)\n",
    "    stdev_years.append(year)"
   ]
  },
  {
   "cell_type": "code",
   "execution_count": 192,
   "metadata": {
    "collapsed": false
   },
   "outputs": [],
   "source": [
    "# Create a Series from the years and values\n",
    "averages = pd.Series(mean_values, index=mean_years, name='Average')"
   ]
  },
  {
   "cell_type": "code",
   "execution_count": 193,
   "metadata": {
    "collapsed": true
   },
   "outputs": [],
   "source": [
    "# Create a Series from the years and values\n",
    "stdevs = pd.Series(stdev_values, index=stdev_years, name='Stdev')"
   ]
  },
  {
   "cell_type": "markdown",
   "metadata": {},
   "source": [
    "# Write Objects to File"
   ]
  },
  {
   "cell_type": "code",
   "execution_count": 194,
   "metadata": {
    "collapsed": false
   },
   "outputs": [],
   "source": [
    "data_list = {\n",
    "    'data':data,\n",
    "    'averages':averages,\n",
    "    'stdevs':stdevs\n",
    "}"
   ]
  },
  {
   "cell_type": "code",
   "execution_count": 195,
   "metadata": {
    "collapsed": false
   },
   "outputs": [],
   "source": [
    "# Write object file with pickle\n",
    "pk.pickle_object(data_list, 'data', test=False)"
   ]
  },
  {
   "cell_type": "code",
   "execution_count": 196,
   "metadata": {
    "collapsed": true
   },
   "outputs": [],
   "source": [
    "# Load the main data table back in...\n",
    "loaded_dict = pk.unpickle_object('data')['data']"
   ]
  },
  {
   "cell_type": "code",
   "execution_count": 197,
   "metadata": {
    "collapsed": true
   },
   "outputs": [],
   "source": [
    "data = np.array(data)"
   ]
  },
  {
   "cell_type": "code",
   "execution_count": 198,
   "metadata": {
    "collapsed": true
   },
   "outputs": [],
   "source": [
    "test_results = data != loaded_data"
   ]
  },
  {
   "cell_type": "code",
   "execution_count": 199,
   "metadata": {
    "collapsed": false
   },
   "outputs": [
    {
     "data": {
      "text/plain": [
       "0"
      ]
     },
     "execution_count": 199,
     "metadata": {},
     "output_type": "execute_result"
    }
   ],
   "source": [
    "# ...and test to make sure that they are equivalent (should equal zero if correct):\n",
    "test_results.sum()"
   ]
  }
 ],
 "metadata": {
  "anaconda-cloud": {},
  "kernelspec": {
   "display_name": "Python [conda root]",
   "language": "python",
   "name": "conda-root-py"
  },
  "language_info": {
   "codemirror_mode": {
    "name": "ipython",
    "version": 3
   },
   "file_extension": ".py",
   "mimetype": "text/x-python",
   "name": "python",
   "nbconvert_exporter": "python",
   "pygments_lexer": "ipython3",
   "version": "3.5.2"
  }
 },
 "nbformat": 4,
 "nbformat_minor": 1
}
