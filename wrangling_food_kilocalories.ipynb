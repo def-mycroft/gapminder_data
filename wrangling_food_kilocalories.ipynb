{
 "cells": [
  {
   "cell_type": "markdown",
   "metadata": {},
   "source": [
    "\n",
    "[here](https://docs.google.com/spreadsheets/d/14G6CjF6NblTGf6kkQclpXp3XZ3D4Nkw1I92DB4fOjXo/pub?gid=0#) is the data desription online, and the food_kilocalories excel file in this directory contains the same thing. I created a csv file for reading in.\n"
   ]
  },
  {
   "cell_type": "code",
   "execution_count": 83,
   "metadata": {
    "collapsed": true
   },
   "outputs": [],
   "source": [
    "import pandas as pd\n",
    "import numpy as np\n",
    "import pickle_funcs as pk\n",
    "import matplotlib.pyplot as plt\n",
    "%matplotlib inline"
   ]
  },
  {
   "cell_type": "code",
   "execution_count": 69,
   "metadata": {
    "collapsed": false
   },
   "outputs": [],
   "source": [
    "data = pd.read_csv('food_kilocalories.csv')"
   ]
  },
  {
   "cell_type": "code",
   "execution_count": 70,
   "metadata": {
    "collapsed": false
   },
   "outputs": [],
   "source": [
    "# Reset the first column name to 'Country'\n",
    "data.columns = ['Country', '1961', '1962', '1963', '1964', '1965', '1966', '1967',\n",
    "       '1968', '1969', '1970', '1971', '1972', '1973', '1974', '1975', '1976',\n",
    "       '1977', '1978', '1979', '1980', '1981', '1982', '1983', '1984', '1985',\n",
    "       '1986', '1987', '1988', '1989', '1990', '1991', '1992', '1993', '1994',\n",
    "       '1995', '1996', '1997', '1998', '1999', '2000', '2001', '2002', '2003',\n",
    "       '2004', '2005', '2006', '2007']"
   ]
  },
  {
   "cell_type": "code",
   "execution_count": 71,
   "metadata": {
    "collapsed": false
   },
   "outputs": [],
   "source": [
    "# Drop any row which contains a null. Could add more countries by dropping columns to a certain point.\n",
    "data.dropna(axis=0, inplace=True)"
   ]
  },
  {
   "cell_type": "code",
   "execution_count": 72,
   "metadata": {
    "collapsed": true
   },
   "outputs": [],
   "source": [
    "# Change the index to the 'Country' column\n",
    "data.index = data['Country']\n",
    "data.drop('Country', axis=1, inplace=True) # And drop the 'Country' column."
   ]
  },
  {
   "cell_type": "markdown",
   "metadata": {},
   "source": [
    "# Creating Average and Stdev Columns"
   ]
  },
  {
   "cell_type": "code",
   "execution_count": 73,
   "metadata": {
    "collapsed": false
   },
   "outputs": [],
   "source": [
    "# Create two lists, one for years and one for values.\n",
    "mean_values = []\n",
    "mean_years = []\n",
    "for col in range(len(data.columns)):\n",
    "    mean = (data.iloc[:, col].mean())\n",
    "    year = (data.columns[col])\n",
    "    mean_values.append(mean)\n",
    "    mean_years.append(year)"
   ]
  },
  {
   "cell_type": "code",
   "execution_count": 74,
   "metadata": {
    "collapsed": false
   },
   "outputs": [],
   "source": [
    "# Create a Series from the years and values\n",
    "averages = pd.Series(mean_values, index=mean_years, name='Average')"
   ]
  },
  {
   "cell_type": "code",
   "execution_count": 75,
   "metadata": {
    "collapsed": false
   },
   "outputs": [],
   "source": [
    "# Create two lists, one for years and one for values.\n",
    "stdev_values = []\n",
    "stdev_years = []\n",
    "for col in range(len(data.columns)):\n",
    "    deviation = (data.iloc[:, col].std())\n",
    "    year = (data.columns[col])\n",
    "    stdev_values.append(deviation)\n",
    "    stdev_years.append(year)"
   ]
  },
  {
   "cell_type": "code",
   "execution_count": 76,
   "metadata": {
    "collapsed": true
   },
   "outputs": [],
   "source": [
    "# Create a Series from the years and values\n",
    "stdevs = pd.Series(stdev_values, index=stdev_years, name='Stdev')"
   ]
  },
  {
   "cell_type": "markdown",
   "metadata": {},
   "source": [
    "# Write Objects to File"
   ]
  },
  {
   "cell_type": "code",
   "execution_count": 103,
   "metadata": {
    "collapsed": false
   },
   "outputs": [],
   "source": [
    "data_list = {\n",
    "    'data':data,\n",
    "    'averages':averages,\n",
    "    'stdevs':stdevs\n",
    "}"
   ]
  },
  {
   "cell_type": "code",
   "execution_count": 104,
   "metadata": {
    "collapsed": false
   },
   "outputs": [],
   "source": [
    "pk.pickle_object(data_list, 'data', test=False)"
   ]
  },
  {
   "cell_type": "code",
   "execution_count": 105,
   "metadata": {
    "collapsed": true
   },
   "outputs": [],
   "source": [
    "loaded_data = pk.unpickle_object('data')"
   ]
  },
  {
   "cell_type": "code",
   "execution_count": 106,
   "metadata": {
    "collapsed": false
   },
   "outputs": [],
   "source": [
    "loaded_data = np.array(loaded_data['data'])"
   ]
  },
  {
   "cell_type": "code",
   "execution_count": 107,
   "metadata": {
    "collapsed": true
   },
   "outputs": [],
   "source": [
    "original_data = np.array(data)"
   ]
  },
  {
   "cell_type": "code",
   "execution_count": 108,
   "metadata": {
    "collapsed": false
   },
   "outputs": [],
   "source": [
    "test_results = (loaded_data != original_data)"
   ]
  },
  {
   "cell_type": "code",
   "execution_count": 109,
   "metadata": {
    "collapsed": false
   },
   "outputs": [
    {
     "data": {
      "text/plain": [
       "0"
      ]
     },
     "execution_count": 109,
     "metadata": {},
     "output_type": "execute_result"
    }
   ],
   "source": [
    "test_results.sum()"
   ]
  }
 ],
 "metadata": {
  "anaconda-cloud": {},
  "kernelspec": {
   "display_name": "Python [conda root]",
   "language": "python",
   "name": "conda-root-py"
  },
  "language_info": {
   "codemirror_mode": {
    "name": "ipython",
    "version": 3
   },
   "file_extension": ".py",
   "mimetype": "text/x-python",
   "name": "python",
   "nbconvert_exporter": "python",
   "pygments_lexer": "ipython3",
   "version": "3.5.2"
  }
 },
 "nbformat": 4,
 "nbformat_minor": 1
}
