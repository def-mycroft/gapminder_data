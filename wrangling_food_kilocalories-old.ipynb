{
 "cells": [
  {
   "cell_type": "markdown",
   "metadata": {},
   "source": [
    "Did some stuff here that I want to have in my notebooks, but I don't want to actually use. \n",
    "\n",
    "I added an averages and a standard deviation row in the main data table, but realized that this is not a good idea. Want to have a separate series because adding rows like this to a table corrupts the data in columns."
   ]
  },
  {
   "cell_type": "markdown",
   "metadata": {},
   "source": [
    "\n",
    "[here](https://docs.google.com/spreadsheets/d/14G6CjF6NblTGf6kkQclpXp3XZ3D4Nkw1I92DB4fOjXo/pub?gid=0#) is the data desription online, and the food_kilocalories excel file in this directory contains the same thing. I created a csv file for reading in.\n"
   ]
  },
  {
   "cell_type": "code",
   "execution_count": 1,
   "metadata": {
    "collapsed": true
   },
   "outputs": [],
   "source": [
    "import pandas as pd\n",
    "import numpy as np\n",
    "import matplotlib.pyplot as plt\n",
    "%matplotlib inline\n",
    "import pickle_funcs as pk"
   ]
  },
  {
   "cell_type": "code",
   "execution_count": 53,
   "metadata": {
    "collapsed": false
   },
   "outputs": [],
   "source": [
    "data = pd.read_csv('food_kilocalories.csv')"
   ]
  },
  {
   "cell_type": "code",
   "execution_count": 54,
   "metadata": {
    "collapsed": false
   },
   "outputs": [],
   "source": [
    "# Reset the first column name to 'Country'\n",
    "data.columns = ['Country', '1961', '1962', '1963', '1964', '1965', '1966', '1967',\n",
    "       '1968', '1969', '1970', '1971', '1972', '1973', '1974', '1975', '1976',\n",
    "       '1977', '1978', '1979', '1980', '1981', '1982', '1983', '1984', '1985',\n",
    "       '1986', '1987', '1988', '1989', '1990', '1991', '1992', '1993', '1994',\n",
    "       '1995', '1996', '1997', '1998', '1999', '2000', '2001', '2002', '2003',\n",
    "       '2004', '2005', '2006', '2007']"
   ]
  },
  {
   "cell_type": "code",
   "execution_count": 55,
   "metadata": {
    "collapsed": false
   },
   "outputs": [],
   "source": [
    "# Drop any row which contains a null. Could add more countries by dropping columns to a certain point.\n",
    "data.dropna(axis=0, inplace=True)"
   ]
  },
  {
   "cell_type": "code",
   "execution_count": 56,
   "metadata": {
    "collapsed": true
   },
   "outputs": [],
   "source": [
    "# Change the index to the 'Country' column\n",
    "data.index = data['Country']\n",
    "data.drop('Country', axis=1, inplace=True) # And drop the 'Country' column."
   ]
  },
  {
   "cell_type": "markdown",
   "metadata": {},
   "source": [
    "# Adding Rows\n",
    "\n",
    "## Adding an Average Row"
   ]
  },
  {
   "cell_type": "code",
   "execution_count": 57,
   "metadata": {
    "collapsed": false
   },
   "outputs": [],
   "source": [
    "# I'm adding average and stdev rows to the table (representing average/stdev of each column (year)). \n",
    "# Would probably be better to just create a different series for the stdevs and averages \n",
    "\n",
    "# Create dicts to store the calculated values before adding them to the table \n",
    "# I think there is a good reason for not doing things like this, because it edits the table \n",
    "# to include the values in the column. Therefore, if I add a row for the average of each column, \n",
    "# when I call methods on the columns the result is incorrect because it includes the average values. \n",
    "# All I want to do is create a plot of the average values. \n",
    "# I'm going to figure out how to do this because then I will know how to add rows, practice.\n",
    "\n",
    "calculated_averages = {}\n",
    "\n",
    "for col in range(len(data.columns)):\n",
    "    year = data.columns[col]\n",
    "    mean_value = data[year].mean()\n",
    "    calculated_averages[year] = mean_value\n",
    "    \n",
    "calculated_stdevs = {}\n",
    "\n",
    "for col in range(len(data.columns)):\n",
    "    year = data.columns[col]\n",
    "    stdev_value = data[year].std()\n",
    "    calculated_stdevs[year] = stdev_value\n"
   ]
  },
  {
   "cell_type": "code",
   "execution_count": 58,
   "metadata": {
    "collapsed": false
   },
   "outputs": [],
   "source": [
    "# Create two lists, one for years and one for values.\n",
    "mean_values = []\n",
    "mean_years = []\n",
    "for col in range(len(data.columns)):\n",
    "    mean = (data.iloc[:, col].mean())\n",
    "    year = (data.columns[col])\n",
    "    mean_values.append(mean)\n",
    "    mean_years.append(year)"
   ]
  },
  {
   "cell_type": "code",
   "execution_count": 59,
   "metadata": {
    "collapsed": false
   },
   "outputs": [],
   "source": [
    "# Create a Series from the years and values\n",
    "averages = pd.Series(mean_values, index=mean_years, name='Average')"
   ]
  },
  {
   "cell_type": "code",
   "execution_count": 60,
   "metadata": {
    "collapsed": false
   },
   "outputs": [],
   "source": [
    "# Create two lists, one for years and one for values.\n",
    "stdev_values = []\n",
    "stdev_years = []\n",
    "for col in range(len(data.columns)):\n",
    "    deviation = (data.iloc[:, col].std())\n",
    "    year = (data.columns[col])\n",
    "    stdev_values.append(deviation)\n",
    "    stdev_years.append(year)"
   ]
  },
  {
   "cell_type": "code",
   "execution_count": 61,
   "metadata": {
    "collapsed": true
   },
   "outputs": [],
   "source": [
    "# Create a Series from the years and values\n",
    "stdev = pd.Series(stdev_values, index=stdev_years, name='Stdev')"
   ]
  },
  {
   "cell_type": "code",
   "execution_count": 62,
   "metadata": {
    "collapsed": false
   },
   "outputs": [],
   "source": [
    "# Append this series to the DataFrame\n",
    "data = data.append(averages)\n",
    "data = data.append(stdev)"
   ]
  },
  {
   "cell_type": "code",
   "execution_count": 64,
   "metadata": {
    "collapsed": false
   },
   "outputs": [],
   "source": [
    "# double check averages and stdevs \n",
    "\n",
    "for col in range(len(data.columns)):\n",
    "    year = data.columns[col]\n",
    "    stored_mean = data[year]['Average']\n",
    "    test_true = round(stored_mean, 4) == round(calculated_averages[year], 4)\n",
    "    if not test_true:\n",
    "        print(year)\n",
    "        print(stored_mean)\n",
    "        print(calculated_averages[year])\n",
    "        print('')\n",
    "\n",
    "for col in range(len(data.columns)):\n",
    "    year = data.columns[col]\n",
    "    stored_stdev = data[year]['Stdev']\n",
    "    test_true = round(stored_stdev, 4) == round(calculated_stdevs[year], 4)\n",
    "    if not test_true:\n",
    "        print(year)\n",
    "        print(stored_stdev)\n",
    "        print(calculated_stdevs[year])\n",
    "        print('')"
   ]
  },
  {
   "cell_type": "code",
   "execution_count": 65,
   "metadata": {
    "collapsed": false
   },
   "outputs": [
    {
     "data": {
      "text/plain": [
       "<matplotlib.axes._subplots.AxesSubplot at 0x7f79ec7c16a0>"
      ]
     },
     "execution_count": 65,
     "metadata": {},
     "output_type": "execute_result"
    },
    {
     "data": {
      "image/png": "[encoded data removed]",
      "text/plain": [
       "<matplotlib.figure.Figure at 0x7f79ec8e1eb8>"
      ]
     },
     "metadata": {},
     "output_type": "display_data"
    }
   ],
   "source": [
    "(data.loc['Stdev']).plot()"
   ]
  }
 ],
 "metadata": {
  "anaconda-cloud": {},
  "kernelspec": {
   "display_name": "Python [conda root]",
   "language": "python",
   "name": "conda-root-py"
  },
  "language_info": {
   "codemirror_mode": {
    "name": "ipython",
    "version": 3
   },
   "file_extension": ".py",
   "mimetype": "text/x-python",
   "name": "python",
   "nbconvert_exporter": "python",
   "pygments_lexer": "ipython3",
   "version": "3.5.2"
  }
 },
 "nbformat": 4,
 "nbformat_minor": 1
}
