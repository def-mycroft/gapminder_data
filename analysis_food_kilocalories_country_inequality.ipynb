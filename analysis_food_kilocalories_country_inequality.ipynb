{
 "cells": [
  {
   "cell_type": "markdown",
   "metadata": {},
   "source": [
    "## Time Series of Inter-Country Inequality in Available Calories per Person"
   ]
  },
  {
   "cell_type": "markdown",
   "metadata": {},
   "source": [
    "The data is taken from [gapminder](https://www.gapminder.org/data/). The data represents daily available food supply, defined [here](https://docs.google.com/spreadsheets/d/14G6CjF6NblTGf6kkQclpXp3XZ3D4Nkw1I92DB4fOjXo/pub?gid=0#):\n",
    "\n",
    "> The total supply of food available in a country, divided by the population and 365 (the number of days in the year).\n",
    "\n",
    "This represents the amount of available food per person in a country. There are 151 countries and 47 years, ranging from 1961 to 2007. Additional details on the data can be found at the end of this document.\n",
    "\n",
    "The inter-country inequality is defined in two different ways and plotted as a time series.\n"
   ]
  },
  {
   "cell_type": "code",
   "execution_count": 70,
   "metadata": {
    "collapsed": false
   },
   "outputs": [
    {
     "name": "stdout",
     "output_type": "stream",
     "text": [
      "there are 151 countries and 47 years, ranging from 1961 to 2007.\n"
     ]
    }
   ],
   "source": [
    "# Calculate data summary.\n",
    "qty_countries = len(data.index)\n",
    "qty_years = len(data.columns)\n",
    "min_year = list(data.columns)[0]\n",
    "max_year = list(data.columns)[-1]\n",
    "print(\n",
    "    'there are %s countries and %s years, ranging from %s to %s.' % (\n",
    "        qty_countries,\n",
    "        qty_years,\n",
    "        min_year,\n",
    "        max_year\n",
    "    )\n",
    ")"
   ]
  },
  {
   "cell_type": "markdown",
   "metadata": {},
   "source": [
    "# Importing Data\n"
   ]
  },
  {
   "cell_type": "markdown",
   "metadata": {},
   "source": [
    "The data was cleaned and saved in [this notebook](https://github.com/def-mycroft/gapminder_data/blob/master/wrangling_food_kilocalories.ipynb)."
   ]
  },
  {
   "cell_type": "code",
   "execution_count": 79,
   "metadata": {
    "collapsed": true
   },
   "outputs": [],
   "source": [
    "import pandas as pd\n",
    "import numpy as np\n",
    "import pickle_funcs as pk\n",
    "import matplotlib.pyplot as plt\n",
    "%matplotlib inline"
   ]
  },
  {
   "cell_type": "code",
   "execution_count": 80,
   "metadata": {
    "collapsed": false
   },
   "outputs": [],
   "source": [
    "data_dict = pk.unpickle_object('data')"
   ]
  },
  {
   "cell_type": "code",
   "execution_count": 81,
   "metadata": {
    "collapsed": false
   },
   "outputs": [
    {
     "data": {
      "text/plain": [
       "dict_keys(['stdevs', 'averages', 'data'])"
      ]
     },
     "execution_count": 81,
     "metadata": {},
     "output_type": "execute_result"
    }
   ],
   "source": [
    "data_dict.keys()"
   ]
  },
  {
   "cell_type": "code",
   "execution_count": 82,
   "metadata": {
    "collapsed": true
   },
   "outputs": [],
   "source": [
    "data = data_dict['data']\n",
    "averages = data_dict['averages']\n",
    "stdevs = data_dict['stdevs']"
   ]
  },
  {
   "cell_type": "markdown",
   "metadata": {},
   "source": [
    "# Measure of Inequality\n",
    "\n",
    "One way to do this is to just compare the 20th percentile with the 80th. "
   ]
  },
  {
   "cell_type": "code",
   "execution_count": 139,
   "metadata": {
    "collapsed": false
   },
   "outputs": [],
   "source": [
    "\"\"\"Define functions which create Series of inequality measures.\"\"\"\n",
    "\n",
    "\n",
    "def calc_inequality_v1(data, year, verbose=False):\n",
    "    \"\"\"Calculates difference between 20th and 80th percentile as a percent of the 20th.\"\"\"\n",
    "    percentile_20th = data[year].quantile(q=0.20)\n",
    "    percentile_80th = data[year].quantile(q=0.80)\n",
    "\n",
    "    inequality = 100 * (percentile_80th - percentile_20th) / percentile_20th\n",
    "    inequality = round(inequality, 2)\n",
    "    \n",
    "    if verbose:\n",
    "        print('')\n",
    "        print('Inequality in %s was %s percent.' % (year, inequality))\n",
    "        print('The 20th percentile was %s, the 80th was %s.' % (percentile_20th, percentile_80th))\n",
    "    \n",
    "    else:\n",
    "        return inequality\n",
    "\n",
    "\n",
    "def calc_inequality_v2(data, year, verbose=False):\n",
    "    \"\"\"Calculates availability of the lower class as a percentage of the upper class.\"\"\"\n",
    "    # Average of values below the 20th percentile.\n",
    "    percentile_20th = data[year][data[year] <= data[year].quantile(q=0.20)].mean()\n",
    "    # Average of values above the 80th percentile.\n",
    "    percentile_80th = data[year][data[year] >= data[year].quantile(q=0.80)].mean()\n",
    "\n",
    "    # Average availability of the lower class as a percentage of the upper class.\n",
    "    # i.e. if the lower/upper class has 1500/3000 calories, the measure is 50%. \n",
    "    inequality = 100 * (percentile_20th / percentile_80th)\n",
    "    inequality = round(inequality, 2)\n",
    "    \n",
    "    if verbose:\n",
    "        print('')\n",
    "        print('Average availability of the lower class as a percentage of the upper class.')\n",
    "        print('For example, if the lower/upper class has 1500/3000 calories, the measure is 50%.')\n",
    "        print('Equality in %s was %s percent.' % (year, inequality))\n",
    "        print(\n",
    "            'The average of values below the 20th percentile was %s, average of values above the 80th was %s.'\n",
    "            % (\n",
    "                round(percentile_20th,2), \n",
    "                round(percentile_80th,2)\n",
    "            )\n",
    "        )\n",
    "        print( )\n",
    "    \n",
    "    else:\n",
    "        return inequality\n",
    "\n",
    "\n",
    "def create_series(data, function_to_apply, series_name):\n",
    "    \"\"\"Applies a function across columns of a dataframe and returns a new series.\"\"\"\n",
    "    values = []\n",
    "    years = []\n",
    "    \n",
    "    for col in range(len(data.columns)):\n",
    "        year = (data.columns[col])\n",
    "        cell = function_to_apply(data, year)\n",
    "        values.append(cell)\n",
    "        years.append(year)\n",
    "        \n",
    "    return pd.Series(values, index=years, name=series_name)"
   ]
  },
  {
   "cell_type": "markdown",
   "metadata": {},
   "source": [
    "## Plot a Simple Inequality Measure"
   ]
  },
  {
   "cell_type": "markdown",
   "metadata": {},
   "source": [
    "The difference between the value of the 80th percentile and the value of the 20th percentile as a percentage of the 20th percentile. Since this represents the difference between the two classes, a higher level of equality between countries means a lower value."
   ]
  },
  {
   "cell_type": "code",
   "execution_count": 140,
   "metadata": {
    "collapsed": false
   },
   "outputs": [
    {
     "name": "stdout",
     "output_type": "stream",
     "text": [
      "\n",
      "Inequality in 2007 was 39.38 percent.\n",
      "The 20th percentile was 2282.06, the 80th was 3180.69.\n",
      "\n",
      "Inequality in 1961 was 49.54 percent.\n",
      "The 20th percentile was 1784.67, the 80th was 2668.87.\n"
     ]
    },
    {
     "data": {
      "text/plain": [
       "<matplotlib.axes._subplots.AxesSubplot at 0x7f8fc5fdfa58>"
      ]
     },
     "execution_count": 140,
     "metadata": {},
     "output_type": "execute_result"
    },
    {
     "data": {
      "image/png": "[encoded data removed]",
      "text/plain": [
       "<matplotlib.figure.Figure at 0x7f8fc61e5128>"
      ]
     },
     "metadata": {},
     "output_type": "display_data"
    }
   ],
   "source": [
    "# Create a series representing the inequality measure for all years in the dataset.\n",
    "inequality_version1 = create_series(data, calc_inequality_v1, 'Inequality')\n",
    "# Calculate data for 2007 and display.\n",
    "calc_inequality_v1(data, '2007', verbose=True)\n",
    "# Calculate data for 1961 and display.\n",
    "calc_inequality_v1(data, '1961', verbose=True)\n",
    "# Create a plot of the data from 1961 to 2007\n",
    "inequality_version1.plot()"
   ]
  },
  {
   "cell_type": "markdown",
   "metadata": {},
   "source": [
    "## Plot Differences between upper and lower classes"
   ]
  },
  {
   "cell_type": "markdown",
   "metadata": {},
   "source": [
    "The average of the lower class is shown as a percentage of the upper class. "
   ]
  },
  {
   "cell_type": "code",
   "execution_count": 141,
   "metadata": {
    "collapsed": false
   },
   "outputs": [
    {
     "name": "stdout",
     "output_type": "stream",
     "text": [
      "\n",
      "Average availability of the lower class as a percentage of the upper class.\n",
      "For example, if the lower/upper class has 1500/3000 calories, the measure is 50%.\n",
      "Equality in 2007 was 60.28 percent.\n",
      "The average of values below the 20th percentile was 2082.2, average of values above the 80th was 3454.07.\n",
      "\n",
      "\n",
      "Average availability of the lower class as a percentage of the upper class.\n",
      "For example, if the lower/upper class has 1500/3000 calories, the measure is 50%.\n",
      "Equality in 1961 was 55.66 percent.\n",
      "The average of values below the 20th percentile was 1684.13, average of values above the 80th was 3025.82.\n",
      "\n"
     ]
    },
    {
     "data": {
      "text/plain": [
       "<matplotlib.axes._subplots.AxesSubplot at 0x7f8fc5f4eba8>"
      ]
     },
     "execution_count": 141,
     "metadata": {},
     "output_type": "execute_result"
    },
    {
     "data": {
      "image/png": "[encoded data removed]",
      "text/plain": [
       "<matplotlib.figure.Figure at 0x7f8fc5eade80>"
      ]
     },
     "metadata": {},
     "output_type": "display_data"
    }
   ],
   "source": [
    "# Create a series representing the inequality measure for all years in the dataset.\n",
    "inequality_version2 = create_series(data, calc_inequality_v2, 'Inequality')\n",
    "# Calculate data for 2007 and display.\n",
    "calc_inequality_v2(data, '2007', verbose=True)\n",
    "# Calculate data for 1961 and display.\n",
    "calc_inequality_v2(data, '1961', verbose=True)\n",
    "# Create a plot of the data from 1961 to 2007\n",
    "inequality_version2.plot()"
   ]
  },
  {
   "cell_type": "markdown",
   "metadata": {},
   "source": [
    "# Data Details\n"
   ]
  },
  {
   "cell_type": "markdown",
   "metadata": {},
   "source": [
    "## List of Countries"
   ]
  },
  {
   "cell_type": "code",
   "execution_count": 142,
   "metadata": {
    "collapsed": false
   },
   "outputs": [
    {
     "data": {
      "text/html": [
       "<div>\n",
       "<table border=\"1\" class=\"dataframe\">\n",
       "  <thead>\n",
       "    <tr style=\"text-align: right;\">\n",
       "      <th></th>\n",
       "      <th>1961</th>\n",
       "      <th>1962</th>\n",
       "      <th>1963</th>\n",
       "      <th>1964</th>\n",
       "      <th>1965</th>\n",
       "      <th>1966</th>\n",
       "      <th>1967</th>\n",
       "      <th>1968</th>\n",
       "      <th>1969</th>\n",
       "      <th>1970</th>\n",
       "      <th>...</th>\n",
       "      <th>1998</th>\n",
       "      <th>1999</th>\n",
       "      <th>2000</th>\n",
       "      <th>2001</th>\n",
       "      <th>2002</th>\n",
       "      <th>2003</th>\n",
       "      <th>2004</th>\n",
       "      <th>2005</th>\n",
       "      <th>2006</th>\n",
       "      <th>2007</th>\n",
       "    </tr>\n",
       "  </thead>\n",
       "  <tbody>\n",
       "    <tr>\n",
       "      <th>count</th>\n",
       "      <td>151.000000</td>\n",
       "      <td>151.000000</td>\n",
       "      <td>151.000000</td>\n",
       "      <td>151.000000</td>\n",
       "      <td>151.000000</td>\n",
       "      <td>151.000000</td>\n",
       "      <td>151.000000</td>\n",
       "      <td>151.000000</td>\n",
       "      <td>151.000000</td>\n",
       "      <td>151.000000</td>\n",
       "      <td>...</td>\n",
       "      <td>151.000000</td>\n",
       "      <td>151.000000</td>\n",
       "      <td>151.000000</td>\n",
       "      <td>151.000000</td>\n",
       "      <td>151.000000</td>\n",
       "      <td>151.00000</td>\n",
       "      <td>151.000000</td>\n",
       "      <td>151.000000</td>\n",
       "      <td>151.000000</td>\n",
       "      <td>151.000000</td>\n",
       "    </tr>\n",
       "    <tr>\n",
       "      <th>mean</th>\n",
       "      <td>2233.340265</td>\n",
       "      <td>2253.774768</td>\n",
       "      <td>2264.177682</td>\n",
       "      <td>2291.149404</td>\n",
       "      <td>2311.418411</td>\n",
       "      <td>2326.584437</td>\n",
       "      <td>2336.980132</td>\n",
       "      <td>2356.097417</td>\n",
       "      <td>2373.396358</td>\n",
       "      <td>2392.855762</td>\n",
       "      <td>...</td>\n",
       "      <td>2611.576225</td>\n",
       "      <td>2629.156159</td>\n",
       "      <td>2644.481722</td>\n",
       "      <td>2658.319073</td>\n",
       "      <td>2668.592252</td>\n",
       "      <td>2679.39755</td>\n",
       "      <td>2689.561589</td>\n",
       "      <td>2704.593841</td>\n",
       "      <td>2718.390132</td>\n",
       "      <td>2735.693974</td>\n",
       "    </tr>\n",
       "    <tr>\n",
       "      <th>std</th>\n",
       "      <td>483.999292</td>\n",
       "      <td>474.095475</td>\n",
       "      <td>472.503672</td>\n",
       "      <td>469.251878</td>\n",
       "      <td>467.723185</td>\n",
       "      <td>473.609592</td>\n",
       "      <td>467.098009</td>\n",
       "      <td>471.508016</td>\n",
       "      <td>478.872896</td>\n",
       "      <td>479.231366</td>\n",
       "      <td>...</td>\n",
       "      <td>526.986766</td>\n",
       "      <td>529.724632</td>\n",
       "      <td>525.311253</td>\n",
       "      <td>523.239077</td>\n",
       "      <td>521.798445</td>\n",
       "      <td>516.82439</td>\n",
       "      <td>517.717543</td>\n",
       "      <td>506.777333</td>\n",
       "      <td>502.047221</td>\n",
       "      <td>499.391864</td>\n",
       "    </tr>\n",
       "    <tr>\n",
       "      <th>min</th>\n",
       "      <td>1417.730000</td>\n",
       "      <td>1449.530000</td>\n",
       "      <td>1434.390000</td>\n",
       "      <td>1443.270000</td>\n",
       "      <td>1532.860000</td>\n",
       "      <td>1581.880000</td>\n",
       "      <td>1594.300000</td>\n",
       "      <td>1585.170000</td>\n",
       "      <td>1559.570000</td>\n",
       "      <td>1672.790000</td>\n",
       "      <td>...</td>\n",
       "      <td>1668.250000</td>\n",
       "      <td>1614.170000</td>\n",
       "      <td>1596.680000</td>\n",
       "      <td>1552.900000</td>\n",
       "      <td>1546.670000</td>\n",
       "      <td>1558.01000</td>\n",
       "      <td>1564.610000</td>\n",
       "      <td>1566.410000</td>\n",
       "      <td>1584.910000</td>\n",
       "      <td>1605.080000</td>\n",
       "    </tr>\n",
       "    <tr>\n",
       "      <th>25%</th>\n",
       "      <td>1854.805000</td>\n",
       "      <td>1885.425000</td>\n",
       "      <td>1898.180000</td>\n",
       "      <td>1932.540000</td>\n",
       "      <td>1945.670000</td>\n",
       "      <td>1995.895000</td>\n",
       "      <td>1994.205000</td>\n",
       "      <td>2006.785000</td>\n",
       "      <td>2010.380000</td>\n",
       "      <td>2059.020000</td>\n",
       "      <td>...</td>\n",
       "      <td>2169.605000</td>\n",
       "      <td>2205.640000</td>\n",
       "      <td>2190.510000</td>\n",
       "      <td>2240.300000</td>\n",
       "      <td>2248.485000</td>\n",
       "      <td>2233.67000</td>\n",
       "      <td>2246.730000</td>\n",
       "      <td>2283.245000</td>\n",
       "      <td>2295.965000</td>\n",
       "      <td>2326.855000</td>\n",
       "    </tr>\n",
       "    <tr>\n",
       "      <th>50%</th>\n",
       "      <td>2121.050000</td>\n",
       "      <td>2156.790000</td>\n",
       "      <td>2158.900000</td>\n",
       "      <td>2216.800000</td>\n",
       "      <td>2234.910000</td>\n",
       "      <td>2217.190000</td>\n",
       "      <td>2246.220000</td>\n",
       "      <td>2247.160000</td>\n",
       "      <td>2252.230000</td>\n",
       "      <td>2273.910000</td>\n",
       "      <td>...</td>\n",
       "      <td>2564.690000</td>\n",
       "      <td>2561.060000</td>\n",
       "      <td>2596.350000</td>\n",
       "      <td>2611.720000</td>\n",
       "      <td>2640.400000</td>\n",
       "      <td>2657.26000</td>\n",
       "      <td>2665.070000</td>\n",
       "      <td>2694.120000</td>\n",
       "      <td>2704.170000</td>\n",
       "      <td>2717.570000</td>\n",
       "    </tr>\n",
       "    <tr>\n",
       "      <th>75%</th>\n",
       "      <td>2485.580000</td>\n",
       "      <td>2543.990000</td>\n",
       "      <td>2583.110000</td>\n",
       "      <td>2602.215000</td>\n",
       "      <td>2606.570000</td>\n",
       "      <td>2633.070000</td>\n",
       "      <td>2663.315000</td>\n",
       "      <td>2694.260000</td>\n",
       "      <td>2662.775000</td>\n",
       "      <td>2727.790000</td>\n",
       "      <td>...</td>\n",
       "      <td>3013.485000</td>\n",
       "      <td>3064.155000</td>\n",
       "      <td>3052.915000</td>\n",
       "      <td>3062.715000</td>\n",
       "      <td>3056.605000</td>\n",
       "      <td>3073.14500</td>\n",
       "      <td>3075.785000</td>\n",
       "      <td>3086.935000</td>\n",
       "      <td>3097.880000</td>\n",
       "      <td>3111.365000</td>\n",
       "    </tr>\n",
       "    <tr>\n",
       "      <th>max</th>\n",
       "      <td>3544.570000</td>\n",
       "      <td>3459.580000</td>\n",
       "      <td>3386.000000</td>\n",
       "      <td>3422.750000</td>\n",
       "      <td>3437.060000</td>\n",
       "      <td>3522.490000</td>\n",
       "      <td>3479.760000</td>\n",
       "      <td>3465.830000</td>\n",
       "      <td>3490.960000</td>\n",
       "      <td>3482.970000</td>\n",
       "      <td>...</td>\n",
       "      <td>3726.510000</td>\n",
       "      <td>3790.660000</td>\n",
       "      <td>3809.100000</td>\n",
       "      <td>3816.930000</td>\n",
       "      <td>3753.780000</td>\n",
       "      <td>3750.54000</td>\n",
       "      <td>3785.300000</td>\n",
       "      <td>3795.800000</td>\n",
       "      <td>3766.280000</td>\n",
       "      <td>3818.800000</td>\n",
       "    </tr>\n",
       "  </tbody>\n",
       "</table>\n",
       "<p>8 rows × 47 columns</p>\n",
       "</div>"
      ],
      "text/plain": [
       "              1961         1962         1963         1964         1965  \\\n",
       "count   151.000000   151.000000   151.000000   151.000000   151.000000   \n",
       "mean   2233.340265  2253.774768  2264.177682  2291.149404  2311.418411   \n",
       "std     483.999292   474.095475   472.503672   469.251878   467.723185   \n",
       "min    1417.730000  1449.530000  1434.390000  1443.270000  1532.860000   \n",
       "25%    1854.805000  1885.425000  1898.180000  1932.540000  1945.670000   \n",
       "50%    2121.050000  2156.790000  2158.900000  2216.800000  2234.910000   \n",
       "75%    2485.580000  2543.990000  2583.110000  2602.215000  2606.570000   \n",
       "max    3544.570000  3459.580000  3386.000000  3422.750000  3437.060000   \n",
       "\n",
       "              1966         1967         1968         1969         1970  \\\n",
       "count   151.000000   151.000000   151.000000   151.000000   151.000000   \n",
       "mean   2326.584437  2336.980132  2356.097417  2373.396358  2392.855762   \n",
       "std     473.609592   467.098009   471.508016   478.872896   479.231366   \n",
       "min    1581.880000  1594.300000  1585.170000  1559.570000  1672.790000   \n",
       "25%    1995.895000  1994.205000  2006.785000  2010.380000  2059.020000   \n",
       "50%    2217.190000  2246.220000  2247.160000  2252.230000  2273.910000   \n",
       "75%    2633.070000  2663.315000  2694.260000  2662.775000  2727.790000   \n",
       "max    3522.490000  3479.760000  3465.830000  3490.960000  3482.970000   \n",
       "\n",
       "          ...              1998         1999         2000         2001  \\\n",
       "count     ...        151.000000   151.000000   151.000000   151.000000   \n",
       "mean      ...       2611.576225  2629.156159  2644.481722  2658.319073   \n",
       "std       ...        526.986766   529.724632   525.311253   523.239077   \n",
       "min       ...       1668.250000  1614.170000  1596.680000  1552.900000   \n",
       "25%       ...       2169.605000  2205.640000  2190.510000  2240.300000   \n",
       "50%       ...       2564.690000  2561.060000  2596.350000  2611.720000   \n",
       "75%       ...       3013.485000  3064.155000  3052.915000  3062.715000   \n",
       "max       ...       3726.510000  3790.660000  3809.100000  3816.930000   \n",
       "\n",
       "              2002        2003         2004         2005         2006  \\\n",
       "count   151.000000   151.00000   151.000000   151.000000   151.000000   \n",
       "mean   2668.592252  2679.39755  2689.561589  2704.593841  2718.390132   \n",
       "std     521.798445   516.82439   517.717543   506.777333   502.047221   \n",
       "min    1546.670000  1558.01000  1564.610000  1566.410000  1584.910000   \n",
       "25%    2248.485000  2233.67000  2246.730000  2283.245000  2295.965000   \n",
       "50%    2640.400000  2657.26000  2665.070000  2694.120000  2704.170000   \n",
       "75%    3056.605000  3073.14500  3075.785000  3086.935000  3097.880000   \n",
       "max    3753.780000  3750.54000  3785.300000  3795.800000  3766.280000   \n",
       "\n",
       "              2007  \n",
       "count   151.000000  \n",
       "mean   2735.693974  \n",
       "std     499.391864  \n",
       "min    1605.080000  \n",
       "25%    2326.855000  \n",
       "50%    2717.570000  \n",
       "75%    3111.365000  \n",
       "max    3818.800000  \n",
       "\n",
       "[8 rows x 47 columns]"
      ]
     },
     "execution_count": 142,
     "metadata": {},
     "output_type": "execute_result"
    }
   ],
   "source": [
    "data.describe()"
   ]
  },
  {
   "cell_type": "code",
   "execution_count": 143,
   "metadata": {
    "collapsed": false
   },
   "outputs": [
    {
     "data": {
      "text/plain": [
       "Country\n",
       "Albania                 2879.57\n",
       "Algeria                 3153.38\n",
       "Angola                  1973.29\n",
       "Antigua and Barbuda     2368.50\n",
       "Argentina               2940.98\n",
       "Australia               3227.05\n",
       "Austria                 3818.80\n",
       "Bahamas                 2712.50\n",
       "Bangladesh              2281.18\n",
       "Barbados                3055.81\n",
       "Belgium                 3693.57\n",
       "Belize                  2717.57\n",
       "Benin                   2532.92\n",
       "Bermuda                 2597.99\n",
       "Bolivia                 2064.13\n",
       "Botswana                2263.82\n",
       "Brazil                  3112.51\n",
       "Brunei                  2968.12\n",
       "Bulgaria                2766.11\n",
       "Burkina Faso            2676.91\n",
       "Burundi                 1684.72\n",
       "Cambodia                2267.55\n",
       "Cameroon                2269.12\n",
       "Canada                  3532.47\n",
       "Cape Verde              2571.92\n",
       "Central African Rep.    1985.84\n",
       "Chad                    2055.82\n",
       "Chile                   2920.42\n",
       "China                   2980.54\n",
       "Colombia                2684.65\n",
       "                         ...   \n",
       "Seychelles              2462.62\n",
       "Sierra Leone            2170.26\n",
       "Solomon Islands         2422.27\n",
       "South Africa            2998.50\n",
       "Spain                   3271.77\n",
       "Sri Lanka               2360.61\n",
       "Sudan                   2282.06\n",
       "Suriname                2492.45\n",
       "Swaziland               2292.25\n",
       "Sweden                  3110.22\n",
       "Switzerland             3465.33\n",
       "Syria                   3034.26\n",
       "Tanzania                2032.39\n",
       "Thailand                2538.62\n",
       "Timor-Leste             2065.67\n",
       "Togo                    2161.06\n",
       "Trinidad and Tobago     2725.15\n",
       "Tunisia                 3326.45\n",
       "Turkey                  3516.73\n",
       "Uganda                  2211.30\n",
       "United Arab Emirates    3171.20\n",
       "United Kingdom          3458.41\n",
       "United States           3748.36\n",
       "Uruguay                 2829.47\n",
       "Vanuatu                 2740.23\n",
       "Venezuela               2631.90\n",
       "Vietnam                 2816.25\n",
       "Yemen, Rep.             2067.57\n",
       "Zambia                  1873.04\n",
       "Zimbabwe                2237.75\n",
       "Name: 2007, dtype: float64"
      ]
     },
     "execution_count": 143,
     "metadata": {},
     "output_type": "execute_result"
    }
   ],
   "source": [
    "data['2007']"
   ]
  },
  {
   "cell_type": "code",
   "execution_count": 60,
   "metadata": {
    "collapsed": false
   },
   "outputs": [
    {
     "name": "stdout",
     "output_type": "stream",
     "text": [
      "Albania\n",
      "Algeria\n",
      "Angola\n",
      "Antigua and Barbuda\n",
      "Argentina\n",
      "Australia\n",
      "Austria\n",
      "Bahamas\n",
      "Bangladesh\n",
      "Barbados\n",
      "Belgium\n",
      "Belize\n",
      "Benin\n",
      "Bermuda\n",
      "Bolivia\n",
      "Botswana\n",
      "Brazil\n",
      "Brunei\n",
      "Bulgaria\n",
      "Burkina Faso\n",
      "Burundi\n",
      "Cambodia\n",
      "Cameroon\n",
      "Canada\n",
      "Cape Verde\n",
      "Central African Rep.\n",
      "Chad\n",
      "Chile\n",
      "China\n",
      "Colombia\n",
      "Comoros\n",
      "Congo, Dem. Rep.\n",
      "Congo, Rep.\n",
      "Costa Rica\n",
      "Cote d'Ivoire\n",
      "Cuba\n",
      "Cyprus\n",
      "Denmark\n",
      "Djibouti\n",
      "Dominica\n",
      "Dominican Rep.\n",
      "Ecuador\n",
      "Egypt\n",
      "El Salvador\n",
      "Ethiopia\n",
      "Fiji\n",
      "Finland\n",
      "France\n",
      "French Polynesia\n",
      "Gabon\n",
      "Gambia\n",
      "Germany\n",
      "Ghana\n",
      "Greece\n",
      "Grenada\n",
      "Guatemala\n",
      "Guinea\n",
      "Guinea-Bissau\n",
      "Guyana\n",
      "Haiti\n",
      "Honduras\n",
      "Hungary\n",
      "Iceland\n",
      "India\n",
      "Indonesia\n",
      "Iran\n",
      "Ireland\n",
      "Israel\n",
      "Italy\n",
      "Jamaica\n",
      "Japan\n",
      "Jordan\n",
      "Kenya\n",
      "Kiribati\n",
      "Korea, Dem. Rep.\n",
      "Korea, Rep.\n",
      "Kuwait\n",
      "Laos\n",
      "Lebanon\n",
      "Lesotho\n",
      "Liberia\n",
      "Libya\n",
      "Madagascar\n",
      "Malawi\n",
      "Malaysia\n",
      "Maldives\n",
      "Mali\n",
      "Malta\n",
      "Mauritania\n",
      "Mauritius\n",
      "Mexico\n",
      "Mongolia\n",
      "Morocco\n",
      "Mozambique\n",
      "Myanmar\n",
      "Namibia\n",
      "Nepal\n",
      "Netherlands\n",
      "Netherlands Antilles\n",
      "New Caledonia\n",
      "New Zealand\n",
      "Nicaragua\n",
      "Niger\n",
      "Nigeria\n",
      "Norway\n",
      "Pakistan\n",
      "Panama\n",
      "Paraguay\n",
      "Peru\n",
      "Philippines\n",
      "Poland\n",
      "Portugal\n",
      "Romania\n",
      "Rwanda\n",
      "Saint Kitts and Nevis\n",
      "Saint Lucia\n",
      "Saint Vincent and the Grenadines\n",
      "Samoa\n",
      "Sao Tome and Principe\n",
      "Saudi Arabia\n",
      "Senegal\n",
      "Seychelles\n",
      "Sierra Leone\n",
      "Solomon Islands\n",
      "South Africa\n",
      "Spain\n",
      "Sri Lanka\n",
      "Sudan\n",
      "Suriname\n",
      "Swaziland\n",
      "Sweden\n",
      "Switzerland\n",
      "Syria\n",
      "Tanzania\n",
      "Thailand\n",
      "Timor-Leste\n",
      "Togo\n",
      "Trinidad and Tobago\n",
      "Tunisia\n",
      "Turkey\n",
      "Uganda\n",
      "United Arab Emirates\n",
      "United Kingdom\n",
      "United States\n",
      "Uruguay\n",
      "Vanuatu\n",
      "Venezuela\n",
      "Vietnam\n",
      "Yemen, Rep.\n",
      "Zambia\n",
      "Zimbabwe\n"
     ]
    }
   ],
   "source": [
    "for item in data.index:\n",
    "    print(item)"
   ]
  }
 ],
 "metadata": {
  "anaconda-cloud": {},
  "kernelspec": {
   "display_name": "Python [conda root]",
   "language": "python",
   "name": "conda-root-py"
  },
  "language_info": {
   "codemirror_mode": {
    "name": "ipython",
    "version": 3
   },
   "file_extension": ".py",
   "mimetype": "text/x-python",
   "name": "python",
   "nbconvert_exporter": "python",
   "pygments_lexer": "ipython3",
   "version": "3.5.2"
  }
 },
 "nbformat": 4,
 "nbformat_minor": 1
}
