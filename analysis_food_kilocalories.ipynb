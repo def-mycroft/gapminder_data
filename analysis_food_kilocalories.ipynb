{
 "cells": [
  {
   "cell_type": "markdown",
   "metadata": {},
   "source": [
    "# Imports and Loading Data\n",
    "\n",
    "I've pickled the tables and series I created in wrangling notebook. "
   ]
  },
  {
   "cell_type": "code",
   "execution_count": 1,
   "metadata": {
    "collapsed": true
   },
   "outputs": [],
   "source": [
    "import pandas as pd\n",
    "import numpy as np\n",
    "import pickle_funcs as pk\n",
    "import matplotlib.pyplot as plt\n",
    "%matplotlib inline"
   ]
  },
  {
   "cell_type": "code",
   "execution_count": 33,
   "metadata": {
    "collapsed": false
   },
   "outputs": [],
   "source": [
    "data_dict = pk.unpickle_object('data')"
   ]
  },
  {
   "cell_type": "code",
   "execution_count": 34,
   "metadata": {
    "collapsed": false
   },
   "outputs": [
    {
     "data": {
      "text/plain": [
       "dict_keys(['stdevs', 'averages', 'data'])"
      ]
     },
     "execution_count": 34,
     "metadata": {},
     "output_type": "execute_result"
    }
   ],
   "source": [
    "data_dict.keys()"
   ]
  },
  {
   "cell_type": "code",
   "execution_count": 35,
   "metadata": {
    "collapsed": true
   },
   "outputs": [],
   "source": [
    "data = data_dict['data']\n",
    "averages = data_dict['averages']\n",
    "stdevs = data_dict['stdevs']"
   ]
  },
  {
   "cell_type": "markdown",
   "metadata": {},
   "source": [
    "# Measure of Inequality\n",
    "\n",
    "One way to do this is to just compare the 20th percentile with the 80th. "
   ]
  },
  {
   "cell_type": "code",
   "execution_count": 39,
   "metadata": {
    "collapsed": false
   },
   "outputs": [],
   "source": [
    "\n",
    "def calc_inequality_v1(data, year, verbose=False):\n",
    "    \"\"\"Calculates difference between 20th and 80th percentile as a percent of the 20th\"\"\"\n",
    "    percentile_20th = data[year].quantile(q=0.20)\n",
    "    percentile_80th = data[year].quantile(q=0.80)\n",
    "\n",
    "    inequality = 100 * (percentile_80th - percentile_20th) / percentile_20th\n",
    "    inequality = round(inequality, 2)\n",
    "    if verbose:\n",
    "        print('inequality in %s was %s percent.' % (year, inequality))\n",
    "    \n",
    "    return inequality\n",
    "\n",
    "\n",
    "def calc_inequality_v2(data, year, verbose=False):\n",
    "\n",
    "    percentile_20th = data[year].quantile(q=0.20)\n",
    "    percentile_80th = data[year].quantile(q=0.80)\n",
    "\n",
    "    inequality = 100 * (percentile_80th - percentile_20th) / percentile_20th\n",
    "    inequality = round(inequality, 2)\n",
    "    if verbose:\n",
    "        print('inequality in %s was %s percent.' % (year, inequality))\n",
    "    \n",
    "    return inequality\n"
   ]
  },
  {
   "cell_type": "code",
   "execution_count": 37,
   "metadata": {
    "collapsed": false
   },
   "outputs": [],
   "source": [
    "# Create two lists, one for years and one for values.\n",
    "ineq_values = []\n",
    "ineq_years = []\n",
    "for col in range(len(data.columns)):\n",
    "    year = (data.columns[col])\n",
    "    inequality = calc_inequality_v1(data, year)\n",
    "    ineq_values.append(inequality)\n",
    "    ineq_years.append(year)"
   ]
  },
  {
   "cell_type": "code",
   "execution_count": 31,
   "metadata": {
    "collapsed": true
   },
   "outputs": [],
   "source": [
    "\n",
    "inequality_version1 = pd.Series(ineq_values, index=ineq_years, name='Inequality')"
   ]
  },
  {
   "cell_type": "code",
   "execution_count": 38,
   "metadata": {
    "collapsed": false
   },
   "outputs": [
    {
     "data": {
      "text/plain": [
       "<matplotlib.axes._subplots.AxesSubplot at 0x7f8fc698a668>"
      ]
     },
     "execution_count": 38,
     "metadata": {},
     "output_type": "execute_result"
    },
    {
     "data": {
      "image/png": "[encoded data removed]",
      "text/plain": [
       "<matplotlib.figure.Figure at 0x7f8fc6993f28>"
      ]
     },
     "metadata": {},
     "output_type": "display_data"
    }
   ],
   "source": [
    "inequality_version1.plot()"
   ]
  },
  {
   "cell_type": "code",
   "execution_count": null,
   "metadata": {
    "collapsed": true
   },
   "outputs": [],
   "source": []
  }
 ],
 "metadata": {
  "anaconda-cloud": {},
  "kernelspec": {
   "display_name": "Python [conda root]",
   "language": "python",
   "name": "conda-root-py"
  },
  "language_info": {
   "codemirror_mode": {
    "name": "ipython",
    "version": 3
   },
   "file_extension": ".py",
   "mimetype": "text/x-python",
   "name": "python",
   "nbconvert_exporter": "python",
   "pygments_lexer": "ipython3",
   "version": "3.5.2"
  }
 },
 "nbformat": 4,
 "nbformat_minor": 1
}
